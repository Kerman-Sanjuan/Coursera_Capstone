{
 "cells": [
  {
   "cell_type": "markdown",
   "metadata": {},
   "source": [
    "# Coursera Final Capstone Report Week 1: Intruduction to Business Problem"
   ]
  },
  {
   "cell_type": "markdown",
   "metadata": {},
   "source": [
    "#### As they ask, on this section you will get some information about the topic and the problem "
   ]
  },
  {
   "cell_type": "markdown",
   "metadata": {},
   "source": [
    "### 1. With the given dataset, describe the problem and the audience and why they would be interested."
   ]
  },
  {
   "cell_type": "markdown",
   "metadata": {},
   "source": [
    "The given dataset contains a bunch of different data about car collisions. My objetive is to be able to predict the severity of an accident depending on the features of it. With this predictions, we will be able to evaluate the consequences in case of accident, for example, when building on a  certain place. Furthermore, this dataset could give us some additional information about the sequirity of some place and the ways to improve it. The main audience of this report could be any organization or goverment, the reason they would care is because anyone would be interested in improving the safety of their own traffic\\.  \n",
    "\n",
    "In short, with the data analysis be able to identify the worst roads and be able to predict the severity of an accident depending on the features."
   ]
  },
  {
   "cell_type": "code",
   "execution_count": 1,
   "metadata": {},
   "outputs": [
    {
     "name": "stdout",
     "output_type": "stream",
     "text": [
      "zsh:1: bad pattern: [Alt\n"
     ]
    }
   ],
   "source": []
  },
  {
   "cell_type": "code",
   "execution_count": null,
   "metadata": {},
   "outputs": [],
   "source": []
  }
 ],
 "metadata": {
  "kernelspec": {
   "display_name": "Python 3",
   "language": "python",
   "name": "python3"
  },
  "language_info": {
   "codemirror_mode": {
    "name": "ipython",
    "version": 3
   },
   "file_extension": ".py",
   "mimetype": "text/x-python",
   "name": "python",
   "nbconvert_exporter": "python",
   "pygments_lexer": "ipython3",
   "version": "3.8.2"
  }
 },
 "nbformat": 4,
 "nbformat_minor": 4
}
